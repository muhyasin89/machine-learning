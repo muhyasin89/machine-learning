{
 "cells": [
  {
   "cell_type": "code",
   "execution_count": 1,
   "metadata": {},
   "outputs": [
    {
     "data": {
      "text/html": [
       "<div>\n",
       "<style scoped>\n",
       "    .dataframe tbody tr th:only-of-type {\n",
       "        vertical-align: middle;\n",
       "    }\n",
       "\n",
       "    .dataframe tbody tr th {\n",
       "        vertical-align: top;\n",
       "    }\n",
       "\n",
       "    .dataframe thead th {\n",
       "        text-align: right;\n",
       "    }\n",
       "</style>\n",
       "<table border=\"1\" class=\"dataframe\">\n",
       "  <thead>\n",
       "    <tr style=\"text-align: right;\">\n",
       "      <th></th>\n",
       "      <th>R&amp;D Spend</th>\n",
       "      <th>Administration</th>\n",
       "      <th>Marketing Spend</th>\n",
       "      <th>State</th>\n",
       "      <th>Profit</th>\n",
       "    </tr>\n",
       "  </thead>\n",
       "  <tbody>\n",
       "    <tr>\n",
       "      <th>0</th>\n",
       "      <td>165349.20</td>\n",
       "      <td>136897.80</td>\n",
       "      <td>471784.10</td>\n",
       "      <td>New York</td>\n",
       "      <td>192261.83</td>\n",
       "    </tr>\n",
       "    <tr>\n",
       "      <th>1</th>\n",
       "      <td>162597.70</td>\n",
       "      <td>151377.59</td>\n",
       "      <td>443898.53</td>\n",
       "      <td>California</td>\n",
       "      <td>191792.06</td>\n",
       "    </tr>\n",
       "    <tr>\n",
       "      <th>2</th>\n",
       "      <td>153441.51</td>\n",
       "      <td>101145.55</td>\n",
       "      <td>407934.54</td>\n",
       "      <td>Florida</td>\n",
       "      <td>191050.39</td>\n",
       "    </tr>\n",
       "    <tr>\n",
       "      <th>3</th>\n",
       "      <td>144372.41</td>\n",
       "      <td>118671.85</td>\n",
       "      <td>383199.62</td>\n",
       "      <td>New York</td>\n",
       "      <td>182901.99</td>\n",
       "    </tr>\n",
       "    <tr>\n",
       "      <th>4</th>\n",
       "      <td>142107.34</td>\n",
       "      <td>91391.77</td>\n",
       "      <td>366168.42</td>\n",
       "      <td>Florida</td>\n",
       "      <td>166187.94</td>\n",
       "    </tr>\n",
       "  </tbody>\n",
       "</table>\n",
       "</div>"
      ],
      "text/plain": [
       "   R&D Spend  Administration  Marketing Spend       State     Profit\n",
       "0  165349.20       136897.80        471784.10    New York  192261.83\n",
       "1  162597.70       151377.59        443898.53  California  191792.06\n",
       "2  153441.51       101145.55        407934.54     Florida  191050.39\n",
       "3  144372.41       118671.85        383199.62    New York  182901.99\n",
       "4  142107.34        91391.77        366168.42     Florida  166187.94"
      ]
     },
     "execution_count": 1,
     "metadata": {},
     "output_type": "execute_result"
    }
   ],
   "source": [
    "import numpy as np\n",
    "import matplotlib.pyplot as plt\n",
    "import pandas as pd\n",
    "\n",
    "dataset = pd.read_csv(\"50_Startups.csv\")\n",
    "X = dataset.iloc[:, :-1].values\n",
    "y = dataset.iloc[:, 4].values\n",
    "\n",
    "\n",
    "#ColumnTransformer([('encoder', OneHotEncoder(), x)], remainder='passthrough')\n",
    "dataset.head()"
   ]
  },
  {
   "cell_type": "code",
   "execution_count": 2,
   "metadata": {},
   "outputs": [
    {
     "data": {
      "text/plain": [
       "array([[0.0, 0.0, 1.0, 165349.2, 2, 471784.1],\n",
       "       [1.0, 0.0, 0.0, 162597.7, 0, 443898.53],\n",
       "       [0.0, 1.0, 0.0, 153441.51, 1, 407934.54],\n",
       "       [0.0, 0.0, 1.0, 144372.41, 2, 383199.62],\n",
       "       [0.0, 1.0, 0.0, 142107.34, 1, 366168.42],\n",
       "       [0.0, 0.0, 1.0, 131876.9, 2, 362861.36],\n",
       "       [1.0, 0.0, 0.0, 134615.46, 0, 127716.82],\n",
       "       [0.0, 1.0, 0.0, 130298.13, 1, 323876.68],\n",
       "       [0.0, 0.0, 1.0, 120542.52, 2, 311613.29],\n",
       "       [1.0, 0.0, 0.0, 123334.88, 0, 304981.62],\n",
       "       [0.0, 1.0, 0.0, 101913.08, 1, 229160.95],\n",
       "       [1.0, 0.0, 0.0, 100671.96, 0, 249744.55],\n",
       "       [0.0, 1.0, 0.0, 93863.75, 1, 249839.44],\n",
       "       [1.0, 0.0, 0.0, 91992.39, 0, 252664.93],\n",
       "       [0.0, 1.0, 0.0, 119943.24, 1, 256512.92],\n",
       "       [0.0, 0.0, 1.0, 114523.61, 2, 261776.23],\n",
       "       [1.0, 0.0, 0.0, 78013.11, 0, 264346.06],\n",
       "       [0.0, 0.0, 1.0, 94657.16, 2, 282574.31],\n",
       "       [0.0, 1.0, 0.0, 91749.16, 1, 294919.57],\n",
       "       [0.0, 0.0, 1.0, 86419.7, 2, 0.0],\n",
       "       [1.0, 0.0, 0.0, 76253.86, 0, 298664.47],\n",
       "       [0.0, 0.0, 1.0, 78389.47, 2, 299737.29],\n",
       "       [0.0, 1.0, 0.0, 73994.56, 1, 303319.26],\n",
       "       [0.0, 1.0, 0.0, 67532.53, 1, 304768.73],\n",
       "       [0.0, 0.0, 1.0, 77044.01, 2, 140574.81],\n",
       "       [1.0, 0.0, 0.0, 64664.71, 0, 137962.62],\n",
       "       [0.0, 1.0, 0.0, 75328.87, 1, 134050.07],\n",
       "       [0.0, 0.0, 1.0, 72107.6, 2, 353183.81],\n",
       "       [0.0, 1.0, 0.0, 66051.52, 1, 118148.2],\n",
       "       [0.0, 0.0, 1.0, 65605.48, 2, 107138.38],\n",
       "       [0.0, 1.0, 0.0, 61994.48, 1, 91131.24],\n",
       "       [0.0, 0.0, 1.0, 61136.38, 2, 88218.23],\n",
       "       [1.0, 0.0, 0.0, 63408.86, 0, 46085.25],\n",
       "       [0.0, 1.0, 0.0, 55493.95, 1, 214634.81],\n",
       "       [1.0, 0.0, 0.0, 46426.07, 0, 210797.67],\n",
       "       [0.0, 0.0, 1.0, 46014.02, 2, 205517.64],\n",
       "       [0.0, 1.0, 0.0, 28663.76, 1, 201126.82],\n",
       "       [1.0, 0.0, 0.0, 44069.95, 0, 197029.42],\n",
       "       [0.0, 0.0, 1.0, 20229.59, 2, 185265.1],\n",
       "       [1.0, 0.0, 0.0, 38558.51, 0, 174999.3],\n",
       "       [1.0, 0.0, 0.0, 28754.33, 0, 172795.67],\n",
       "       [0.0, 1.0, 0.0, 27892.92, 1, 164470.71],\n",
       "       [1.0, 0.0, 0.0, 23640.93, 0, 148001.11],\n",
       "       [0.0, 0.0, 1.0, 15505.73, 2, 35534.17],\n",
       "       [1.0, 0.0, 0.0, 22177.74, 0, 28334.72],\n",
       "       [0.0, 0.0, 1.0, 1000.23, 2, 1903.93],\n",
       "       [0.0, 1.0, 0.0, 1315.46, 1, 297114.46],\n",
       "       [1.0, 0.0, 0.0, 0.0, 0, 0.0],\n",
       "       [0.0, 0.0, 1.0, 542.05, 2, 0.0],\n",
       "       [1.0, 0.0, 0.0, 0.0, 0, 45173.06]], dtype=object)"
      ]
     },
     "execution_count": 2,
     "metadata": {},
     "output_type": "execute_result"
    }
   ],
   "source": [
    "\n",
    "from sklearn.preprocessing import LabelEncoder, OneHotEncoder\n",
    "from sklearn.compose import ColumnTransformer\n",
    "\n",
    "labelencoder_x = LabelEncoder()\n",
    "X[:, -3] = labelencoder_x.fit_transform(X[:, 3])\n",
    "\n",
    "# onehotencoder = OneHotEncoder(categorical_features = [3])\n",
    "# x = onehotencoder.fit_transform(x).to_array()\n",
    "ct = ColumnTransformer([(\"R&D Spend\", OneHotEncoder(),[3])], remainder=\"passthrough\") # The last arg ([0]) is the list of columns you want to transform in this step\n",
    "ct.fit_transform(X)    "
   ]
  },
  {
   "cell_type": "code",
   "execution_count": 11,
   "metadata": {},
   "outputs": [
    {
     "ename": "AttributeError",
     "evalue": "'StandardScaler' object has no attribute 'fit_tranform'",
     "output_type": "error",
     "traceback": [
      "\u001b[0;31m--------------------------------------------------------------------------\u001b[0m",
      "\u001b[0;31mAttributeError\u001b[0m                           Traceback (most recent call last)",
      "\u001b[0;32m<ipython-input-11-408f41cb917a>\u001b[0m in \u001b[0;36m<module>\u001b[0;34m\u001b[0m\n\u001b[1;32m      2\u001b[0m \u001b[0;32mfrom\u001b[0m \u001b[0msklearn\u001b[0m\u001b[0;34m.\u001b[0m\u001b[0mpreprocessing\u001b[0m \u001b[0;32mimport\u001b[0m \u001b[0mStandardScaler\u001b[0m\u001b[0;34m\u001b[0m\u001b[0;34m\u001b[0m\u001b[0m\n\u001b[1;32m      3\u001b[0m \u001b[0msc_x\u001b[0m \u001b[0;34m=\u001b[0m \u001b[0mStandardScaler\u001b[0m\u001b[0;34m(\u001b[0m\u001b[0;34m)\u001b[0m\u001b[0;34m\u001b[0m\u001b[0;34m\u001b[0m\u001b[0m\n\u001b[0;32m----> 4\u001b[0;31m \u001b[0mX_train\u001b[0m \u001b[0;34m=\u001b[0m \u001b[0msc_x\u001b[0m\u001b[0;34m.\u001b[0m\u001b[0mfit_tranform\u001b[0m\u001b[0;34m(\u001b[0m\u001b[0mX_train\u001b[0m\u001b[0;34m)\u001b[0m\u001b[0;34m\u001b[0m\u001b[0;34m\u001b[0m\u001b[0m\n\u001b[0m\u001b[1;32m      5\u001b[0m \u001b[0mX_test\u001b[0m \u001b[0;34m=\u001b[0m \u001b[0msc_x\u001b[0m\u001b[0;34m.\u001b[0m\u001b[0mtransform\u001b[0m\u001b[0;34m(\u001b[0m\u001b[0mX_test\u001b[0m\u001b[0;34m)\u001b[0m\u001b[0;34m\u001b[0m\u001b[0;34m\u001b[0m\u001b[0m\n",
      "\u001b[0;31mAttributeError\u001b[0m: 'StandardScaler' object has no attribute 'fit_tranform'"
     ]
    }
   ],
   "source": [
    "\n",
    "#Feature Scaling\n",
    "# from sklearn.preprocessing import StandardScaler\n",
    "# sc_x = StandardScaler()\n",
    "# X_train = sc_x.fit_tranform(X_train)\n",
    "# X_test = sc_x.transform(X_test)\n"
   ]
  },
  {
   "cell_type": "code",
   "execution_count": 12,
   "metadata": {},
   "outputs": [
    {
     "ename": "NameError",
     "evalue": "name 'X_train' is not defined",
     "output_type": "error",
     "traceback": [
      "\u001b[0;31m--------------------------------------------------------------------------\u001b[0m",
      "\u001b[0;31mNameError\u001b[0m                                Traceback (most recent call last)",
      "\u001b[0;32m<ipython-input-12-c00b38a0d44f>\u001b[0m in \u001b[0;36m<module>\u001b[0;34m\u001b[0m\n\u001b[1;32m      2\u001b[0m \u001b[0;32mfrom\u001b[0m \u001b[0msklearn\u001b[0m\u001b[0;34m.\u001b[0m\u001b[0mlinear_model\u001b[0m \u001b[0;32mimport\u001b[0m \u001b[0mLinearRegression\u001b[0m\u001b[0;34m\u001b[0m\u001b[0;34m\u001b[0m\u001b[0m\n\u001b[1;32m      3\u001b[0m \u001b[0mregressor\u001b[0m \u001b[0;34m=\u001b[0m \u001b[0mLinearRegression\u001b[0m\u001b[0;34m(\u001b[0m\u001b[0;34m)\u001b[0m\u001b[0;34m\u001b[0m\u001b[0;34m\u001b[0m\u001b[0m\n\u001b[0;32m----> 4\u001b[0;31m \u001b[0mregressor\u001b[0m\u001b[0;34m.\u001b[0m\u001b[0mfit\u001b[0m\u001b[0;34m(\u001b[0m\u001b[0mX_train\u001b[0m\u001b[0;34m,\u001b[0m \u001b[0my_train\u001b[0m\u001b[0;34m)\u001b[0m\u001b[0;34m\u001b[0m\u001b[0;34m\u001b[0m\u001b[0m\n\u001b[0m\u001b[1;32m      5\u001b[0m \u001b[0;34m\u001b[0m\u001b[0m\n\u001b[1;32m      6\u001b[0m \u001b[0;31m#Prediction the test set results\u001b[0m\u001b[0;34m\u001b[0m\u001b[0;34m\u001b[0m\u001b[0;34m\u001b[0m\u001b[0m\n",
      "\u001b[0;31mNameError\u001b[0m: name 'X_train' is not defined"
     ]
    }
   ],
   "source": [
    "\n",
    "#Feature Multiple Linear Regression to the Training set\n",
    "from sklearn.linear_model import LinearRegression\n",
    "regressor = LinearRegression()\n",
    "regressor.fit(X_train, y_train)\n",
    "\n",
    "#Prediction the test set results\n",
    "y_pred = regressor.predict(X_test)\n"
   ]
  },
  {
   "cell_type": "code",
   "execution_count": 5,
   "metadata": {},
   "outputs": [
    {
     "ename": "NameError",
     "evalue": "name 'X_train' is not defined",
     "output_type": "error",
     "traceback": [
      "\u001b[0;31m--------------------------------------------------------------------------\u001b[0m",
      "\u001b[0;31mNameError\u001b[0m                                Traceback (most recent call last)",
      "\u001b[0;32m<ipython-input-5-c00b38a0d44f>\u001b[0m in \u001b[0;36m<module>\u001b[0;34m\u001b[0m\n\u001b[1;32m      2\u001b[0m \u001b[0;32mfrom\u001b[0m \u001b[0msklearn\u001b[0m\u001b[0;34m.\u001b[0m\u001b[0mlinear_model\u001b[0m \u001b[0;32mimport\u001b[0m \u001b[0mLinearRegression\u001b[0m\u001b[0;34m\u001b[0m\u001b[0;34m\u001b[0m\u001b[0m\n\u001b[1;32m      3\u001b[0m \u001b[0mregressor\u001b[0m \u001b[0;34m=\u001b[0m \u001b[0mLinearRegression\u001b[0m\u001b[0;34m(\u001b[0m\u001b[0;34m)\u001b[0m\u001b[0;34m\u001b[0m\u001b[0;34m\u001b[0m\u001b[0m\n\u001b[0;32m----> 4\u001b[0;31m \u001b[0mregressor\u001b[0m\u001b[0;34m.\u001b[0m\u001b[0mfit\u001b[0m\u001b[0;34m(\u001b[0m\u001b[0mX_train\u001b[0m\u001b[0;34m,\u001b[0m \u001b[0my_train\u001b[0m\u001b[0;34m)\u001b[0m\u001b[0;34m\u001b[0m\u001b[0;34m\u001b[0m\u001b[0m\n\u001b[0m\u001b[1;32m      5\u001b[0m \u001b[0;34m\u001b[0m\u001b[0m\n\u001b[1;32m      6\u001b[0m \u001b[0;31m#Prediction the test set results\u001b[0m\u001b[0;34m\u001b[0m\u001b[0;34m\u001b[0m\u001b[0;34m\u001b[0m\u001b[0m\n",
      "\u001b[0;31mNameError\u001b[0m: name 'X_train' is not defined"
     ]
    }
   ],
   "source": []
  },
  {
   "cell_type": "code",
   "execution_count": 6,
   "metadata": {},
   "outputs": [
    {
     "ename": "SyntaxError",
     "evalue": "invalid syntax (<ipython-input-6-b45de9c3cf95>, line 3)",
     "output_type": "error",
     "traceback": [
      "\u001b[0;36m  File \u001b[0;32m\"<ipython-input-6-b45de9c3cf95>\"\u001b[0;36m, line \u001b[0;32m3\u001b[0m\n\u001b[0;31m    X = np.append(arr = np.ones(50, 1)).astype(int), values = X, axis = 1)\u001b[0m\n\u001b[0m                                                                         ^\u001b[0m\n\u001b[0;31mSyntaxError\u001b[0m\u001b[0;31m:\u001b[0m invalid syntax\n"
     ]
    }
   ],
   "source": [
    "\n",
    "#building the optimal model using Backward Elimination\n",
    "import statsmodels.formula.api as sm\n",
    "X = np.append(arr = np.ones(50, 1)).astype(int), values = X, axis = 1)\n",
    "X_opt = X[:, [0, 1, 2, 3, 4, 5]]\n",
    "regressor_OLS = sm.OLS(endog = y, exog = X_opt).fit()\n",
    "regressor_OLS.summary()"
   ]
  },
  {
   "cell_type": "code",
   "execution_count": null,
   "metadata": {},
   "outputs": [],
   "source": []
  }
 ],
 "metadata": {
  "kernelspec": {
   "display_name": "Python 3",
   "language": "python",
   "name": "python3"
  },
  "language_info": {
   "codemirror_mode": {
    "name": "ipython",
    "version": 3
   },
   "file_extension": ".py",
   "mimetype": "text/x-python",
   "name": "python",
   "nbconvert_exporter": "python",
   "pygments_lexer": "ipython3",
   "version": "3.6.9"
  }
 },
 "nbformat": 4,
 "nbformat_minor": 4
}
